{
  "nbformat": 4,
  "nbformat_minor": 0,
  "metadata": {
    "colab": {
      "provenance": [],
      "authorship_tag": "ABX9TyMtDM67VJ6v73D8mjvTfUCY",
      "include_colab_link": true
    },
    "kernelspec": {
      "name": "python3",
      "display_name": "Python 3"
    },
    "language_info": {
      "name": "python"
    }
  },
  "cells": [
    {
      "cell_type": "markdown",
      "metadata": {
        "id": "view-in-github",
        "colab_type": "text"
      },
      "source": [
        "<a href=\"https://colab.research.google.com/github/kimhyeongmin-khu/MLMovieProj/blob/main/naver_api_to_trendData.ipynb\" target=\"_parent\"><img src=\"https://colab.research.google.com/assets/colab-badge.svg\" alt=\"Open In Colab\"/></a>"
      ]
    },
    {
      "cell_type": "code",
      "execution_count": null,
      "metadata": {
        "id": "blozww71_7af"
      },
      "outputs": [],
      "source": [
        "#네이버 웹 api를 통해서 트렌드 데이터 수집\n",
        "import os\n",
        "import sys\n",
        "import urllib.request\n",
        "import json\n",
        "import pandas as pd\n",
        "from datetime import datetime, timedelta\n",
        "\n",
        "client_id =\n",
        "client_secret =\n",
        "url = \"https://openapi.naver.com/v1/datalab/search\"\n",
        "\n",
        "df = pd.read_csv('output_to_trend.csv')\n",
        "final_df_list = []\n",
        "\n",
        "for index, row in df.iterrows():\n",
        "    movie_title = row['Movie_Title']\n",
        "    release_date = datetime.strptime(row['Release_Date'], '%Y-%m-%d')\n",
        "\n",
        "    # 개봉일 전후 1주일 기간 설정\n",
        "    end_date = (release_date + timedelta(days=6)).strftime('%Y-%m-%d')\n",
        "    start_date = release_date.strftime('%Y-%m-%d')\n",
        "\n",
        "    # JSON 형식의 본문 문자열을 수정\n",
        "    body = f\"\"\"\n",
        "    {{\n",
        "        \"startDate\": \"{start_date}\",\n",
        "        \"endDate\": \"{end_date}\",\n",
        "        \"timeUnit\": \"date\",\n",
        "        \"keywordGroups\": [\n",
        "            {{\n",
        "                \"groupName\": \"{movie_title}\",\n",
        "                \"keywords\": [\"{movie_title}\"]\n",
        "            }}\n",
        "        ]\n",
        "    }}\n",
        "    \"\"\"\n",
        "\n",
        "    request = urllib.request.Request(url)\n",
        "    request.add_header(\"X-Naver-Client-Id\", client_id)\n",
        "    request.add_header(\"X-Naver-Client-Secret\", client_secret)\n",
        "    request.add_header(\"Content-Type\", \"application/json\")\n",
        "\n",
        "    try:\n",
        "        response = urllib.request.urlopen(request, data=body.encode(\"utf-8\"))\n",
        "        rescode = response.getcode()\n",
        "        if rescode == 200:\n",
        "            response_body = response.read()\n",
        "            response_data = json.loads(response_body.decode('utf-8'))\n",
        "\n",
        "            # 결과 리스트에서 데이터 추출\n",
        "            results = response_data['results'][0]\n",
        "            title = results['title']\n",
        "            data = results['data']\n",
        "\n",
        "            # 데이터프레임 생성\n",
        "            df_temp = pd.DataFrame(data)\n",
        "\n",
        "            # period를 날짜 순서로 정렬하고, 인덱스 재설정\n",
        "            df_temp = df_temp.sort_values(by='period').reset_index(drop=True)\n",
        "\n",
        "            # 인덱스를 1부터 7로 설정\n",
        "            df_temp.index = range(1, len(df_temp) + 1)\n",
        "\n",
        "            # 컬럼 이름 설정\n",
        "            df_temp.columns = ['column', title]\n",
        "\n",
        "            # 컬럼을 1부터 7로 설정\n",
        "            df_temp['column'] = range(1, len(df_temp) + 1)\n",
        "\n",
        "            # 최종 데이터프레임에 추가\n",
        "            final_df_list.append(df_temp.set_index('column').T)\n",
        "\n",
        "        else:\n",
        "            print(\"Error Code:\" + str(rescode))\n",
        "    except Exception as e:\n",
        "        print(f\"Error: {e}\")\n",
        "\n",
        "# 모든 데이터프레임을 수직으로 결합\n",
        "final_df = pd.concat(final_df_list)\n",
        "\n",
        "# 결과를 CSV 파일로 저장\n",
        "final_df.to_csv('combined_trend_data.csv', index=True)\n",
        "\n",
        "# 결과 출력\n",
        "print(final_df)\n"
      ]
    }
  ]
}